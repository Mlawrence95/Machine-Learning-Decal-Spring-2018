{
 "cells": [
  {
   "cell_type": "markdown",
   "metadata": {
    "deletable": true,
    "editable": true
   },
   "source": [
    "# Learning to Tweet Like Trump\n",
    "In this demo, we'll be using Keras to train neural net for language modeling on Trump's tweets."
   ]
  },
  {
   "cell_type": "code",
   "execution_count": null,
   "metadata": {
    "collapsed": false,
    "deletable": true,
    "editable": true
   },
   "outputs": [],
   "source": [
    "import numpy as np\n",
    "import pandas as pd\n",
    "import re\n",
    "\n",
    "from keras.callbacks import LambdaCallback\n",
    "from keras.layers import Dense, LSTM, Activation\n",
    "from keras.models import Sequential\n",
    "from keras.optimizers import RMSprop"
   ]
  },
  {
   "cell_type": "markdown",
   "metadata": {
    "deletable": true,
    "editable": true
   },
   "source": [
    "First, we'll load and clean the data. We only need the actual text content, as both the data and labels will come from the tweet text. (We'll also be using only the most recent 5000 tweets to save on computation time)"
   ]
  },
  {
   "cell_type": "code",
   "execution_count": null,
   "metadata": {
    "collapsed": true,
    "deletable": true,
    "editable": true
   },
   "outputs": [],
   "source": [
    "df = pd.read_csv('trump_tweets.csv', delimiter=',', header=0)\n",
    "df = df[pd.notnull(df['text'])]\n",
    "text = [re.sub(r'https?:\\/\\/.*[\\r\\n]*', '', sent, flags=re.MULTILINE)\n",
    "          .strip() for sent in df['text']][:5000]"
   ]
  },
  {
   "cell_type": "code",
   "execution_count": null,
   "metadata": {
    "collapsed": false,
    "deletable": true,
    "editable": true
   },
   "outputs": [],
   "source": [
    "df"
   ]
  },
  {
   "cell_type": "markdown",
   "metadata": {
    "deletable": true,
    "editable": true
   },
   "source": [
    "We'll need to extract the proper windows from the text and reformat the text as series of one hot vectors."
   ]
  },
  {
   "cell_type": "code",
   "execution_count": null,
   "metadata": {
    "collapsed": true,
    "deletable": true,
    "editable": true
   },
   "outputs": [],
   "source": [
    "char_to_index = {}\n",
    "index_to_char = {}\n",
    "start_token = 0\n",
    "end_token = 1\n",
    "num_chars = 2\n",
    "for sentence in text:\n",
    "    for char in sentence:\n",
    "        if char not in char_to_index:\n",
    "            char_to_index[char] = num_chars\n",
    "            index_to_char[num_chars] = char\n",
    "            num_chars += 1"
   ]
  },
  {
   "cell_type": "code",
   "execution_count": null,
   "metadata": {
    "collapsed": true,
    "deletable": true,
    "editable": true
   },
   "outputs": [],
   "source": [
    "input_len = 25\n",
    "data = []\n",
    "labels = []\n",
    "for sentence in text:\n",
    "    sent_list = [start_token] + [char_to_index[c] for c in sentence] + [end_token]\n",
    "    sent_onehot = np.concatenate((np.zeros((input_len-1, num_chars)),\n",
    "                                  np.eye(num_chars)[sent_list]), axis=0)\n",
    "    for i in range(len(sent_list) - 1):\n",
    "        data.append(sent_onehot[i:i+input_len])\n",
    "        labels.append(sent_onehot[i+input_len])\n",
    "data = np.stack(data, axis=0)\n",
    "labels = np.stack(labels, axis=0)"
   ]
  },
  {
   "cell_type": "markdown",
   "metadata": {
    "deletable": true,
    "editable": true
   },
   "source": [
    "Here we will make the RNN model."
   ]
  },
  {
   "cell_type": "code",
   "execution_count": null,
   "metadata": {
    "collapsed": false,
    "deletable": true,
    "editable": true
   },
   "outputs": [],
   "source": [
    "# Code here"
   ]
  },
  {
   "cell_type": "code",
   "execution_count": null,
   "metadata": {
    "collapsed": false,
    "deletable": true,
    "editable": true
   },
   "outputs": [],
   "source": [
    "def sample(preds, temperature=1.0):\n",
    "    preds = np.asarray(preds).astype('float64')\n",
    "    preds = np.log(preds) / temperature\n",
    "    exp_preds = np.exp(preds)\n",
    "    preds = exp_preds / np.sum(exp_preds)\n",
    "    probas = np.random.multinomial(1, preds, 1)\n",
    "    return np.argmax(probas)\n",
    "\n",
    "def generate_sentence():\n",
    "    max_sent_length = 140\n",
    "    end_sentence = False\n",
    "    sent = np.zeros((input_len, num_chars))\n",
    "    sent[-1, start_token] = 1\n",
    "    \n",
    "    generated = ''\n",
    "    sent_len = 0\n",
    "    while not end_sentence:\n",
    "        # Code here"
   ]
  },
  {
   "cell_type": "code",
   "execution_count": null,
   "metadata": {
    "collapsed": false,
    "deletable": true,
    "editable": true
   },
   "outputs": [],
   "source": [
    "for _ in range(5):\n",
    "    generate_sentence()"
   ]
  },
  {
   "cell_type": "code",
   "execution_count": null,
   "metadata": {
    "collapsed": false,
    "deletable": true,
    "editable": true
   },
   "outputs": [],
   "source": [
    "# Code here"
   ]
  },
  {
   "cell_type": "code",
   "execution_count": null,
   "metadata": {
    "collapsed": true,
    "deletable": true,
    "editable": true
   },
   "outputs": [],
   "source": []
  }
 ],
 "metadata": {
  "kernelspec": {
   "display_name": "Python 3",
   "language": "python",
   "name": "python3"
  },
  "language_info": {
   "codemirror_mode": {
    "name": "ipython",
    "version": 3
   },
   "file_extension": ".py",
   "mimetype": "text/x-python",
   "name": "python",
   "nbconvert_exporter": "python",
   "pygments_lexer": "ipython3",
   "version": "3.5.2"
  }
 },
 "nbformat": 4,
 "nbformat_minor": 2
}
