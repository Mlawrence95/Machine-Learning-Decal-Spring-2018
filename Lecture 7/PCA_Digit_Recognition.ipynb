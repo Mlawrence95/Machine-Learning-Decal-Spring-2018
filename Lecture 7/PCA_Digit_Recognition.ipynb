{
  "nbformat": 4,
  "nbformat_minor": 0,
  "metadata": {
    "colab": {
      "name": "PCA - Digit Recognition.ipynb",
      "version": "0.3.2",
      "views": {},
      "default_view": {},
      "provenance": []
    },
    "kernelspec": {
      "display_name": "Python 3",
      "language": "python",
      "name": "python3"
    },
    "accelerator": "GPU"
  },
  "cells": [
    {
      "metadata": {
        "id": "CRYPSIkuvTUl",
        "colab_type": "code",
        "colab": {
          "autoexec": {
            "startup": false,
            "wait_interval": 0
          }
        }
      },
      "cell_type": "code",
      "source": [
        "import matplotlib.pyplot as plt\n",
        "%matplotlib inline\n",
        "import numpy as np\n",
        "from sklearn.datasets import fetch_mldata\n",
        "from sklearn.model_selection import train_test_split\n",
        "from sklearn.decomposition import PCA\n",
        "from sklearn.neighbors import KNeighborsClassifier\n",
        "from sklearn.covariance import EmpiricalCovariance"
      ],
      "execution_count": 0,
      "outputs": []
    },
    {
      "metadata": {
        "id": "udJ3-SL8vTUo",
        "colab_type": "text"
      },
      "cell_type": "markdown",
      "source": [
        "## Effects of PCA on Digit Recognition\n",
        "MNIST is a popular dataset containing 28 by 28 images of handwritten digits. Today we will be exploring the differences between training a standard K Nearest Neighbors classifier on MNIST vs first performing PCA to reduce the dimension of the data and then use a K Nearest Neighbors classifier.\n",
        "\n",
        "First, load in the dataset and split into training and testing data"
      ]
    },
    {
      "metadata": {
        "id": "7TWtJDWhvTUo",
        "colab_type": "code",
        "colab": {
          "autoexec": {
            "startup": false,
            "wait_interval": 0
          }
        }
      },
      "cell_type": "code",
      "source": [
        "mnist = fetch_mldata('MNIST original')\n",
        "X_train, X_test, y_train, y_test = train_test_split(\n",
        "    mnist.data.astype('float64'), mnist.target, train_size=60000, test_size=10000)"
      ],
      "execution_count": 0,
      "outputs": []
    },
    {
      "metadata": {
        "id": "VDZVdfHWvTUq",
        "colab_type": "code",
        "colab": {
          "autoexec": {
            "startup": false,
            "wait_interval": 0
          },
          "output_extras": [
            {
              "item_id": 1
            }
          ],
          "base_uri": "https://localhost:8080/",
          "height": 51
        },
        "outputId": "7bb85fd5-10ee-4936-aebf-21b0b861be6e",
        "executionInfo": {
          "status": "ok",
          "timestamp": 1520380507207,
          "user_tz": 480,
          "elapsed": 320,
          "user": {
            "displayName": "Nikita Vemuri",
            "photoUrl": "https://lh3.googleusercontent.com/a/default-user=s128",
            "userId": "113506637677921468198"
          }
        }
      },
      "cell_type": "code",
      "source": [
        "print(\"Training images: \", X_train.shape, \"Training labels: \", y_train.shape)\n",
        "print(\"Testing images: \", X_test.shape, \"Testing labels: \", y_test.shape)"
      ],
      "execution_count": 3,
      "outputs": [
        {
          "output_type": "stream",
          "text": [
            "Training images:  (60000, 784) Training labels:  (60000,)\n",
            "Testing images:  (10000, 784) Testing labels:  (10000,)\n"
          ],
          "name": "stdout"
        }
      ]
    },
    {
      "metadata": {
        "id": "BsxLyNP5vTUu",
        "colab_type": "text"
      },
      "cell_type": "markdown",
      "source": [
        "Train and test a standard K Nearest Neighbors classifier on the original data"
      ]
    },
    {
      "metadata": {
        "id": "axLoaaqKvTUv",
        "colab_type": "code",
        "colab": {
          "autoexec": {
            "startup": false,
            "wait_interval": 0
          }
        }
      },
      "cell_type": "code",
      "source": [
        "clf = KNeighborsClassifier().fit(X_train, y_train)"
      ],
      "execution_count": 0,
      "outputs": []
    },
    {
      "metadata": {
        "id": "lpUVA6hTvTUw",
        "colab_type": "code",
        "colab": {
          "autoexec": {
            "startup": false,
            "wait_interval": 0
          },
          "output_extras": [
            {
              "item_id": 1
            }
          ],
          "base_uri": "https://localhost:8080/",
          "height": 34
        },
        "outputId": "b1e2a00e-88c3-422a-f450-2bdd1b0e9dd0",
        "executionInfo": {
          "status": "ok",
          "timestamp": 1520381332599,
          "user_tz": 480,
          "elapsed": 791777,
          "user": {
            "displayName": "Nikita Vemuri",
            "photoUrl": "https://lh3.googleusercontent.com/a/default-user=s128",
            "userId": "113506637677921468198"
          }
        }
      },
      "cell_type": "code",
      "source": [
        "clf.score(X_test, y_test)"
      ],
      "execution_count": 5,
      "outputs": [
        {
          "output_type": "execute_result",
          "data": {
            "text/plain": [
              "0.9745"
            ]
          },
          "metadata": {
            "tags": []
          },
          "execution_count": 5
        }
      ]
    },
    {
      "metadata": {
        "id": "xbPNOWb9vTUy",
        "colab_type": "text"
      },
      "cell_type": "markdown",
      "source": [
        "To determine how many principle components to use for PCA, let's look at the eigenvalues of the covariance matrix."
      ]
    },
    {
      "metadata": {
        "id": "F0Xv4Oh6vTUz",
        "colab_type": "code",
        "colab": {
          "autoexec": {
            "startup": false,
            "wait_interval": 0
          }
        }
      },
      "cell_type": "code",
      "source": [
        "cov = EmpiricalCovariance().fit(X_train)\n",
        "cov = cov.covariance_"
      ],
      "execution_count": 0,
      "outputs": []
    },
    {
      "metadata": {
        "id": "22_mNEzdvTU0",
        "colab_type": "code",
        "colab": {
          "autoexec": {
            "startup": false,
            "wait_interval": 0
          }
        }
      },
      "cell_type": "code",
      "source": [
        "L, V = np.linalg.eig(cov)"
      ],
      "execution_count": 0,
      "outputs": []
    },
    {
      "metadata": {
        "id": "uCe2ZrRFvTU2",
        "colab_type": "code",
        "colab": {
          "autoexec": {
            "startup": false,
            "wait_interval": 0
          },
          "output_extras": [
            {
              "item_id": 1
            },
            {
              "item_id": 2
            },
            {
              "item_id": 3
            }
          ],
          "base_uri": "https://localhost:8080/",
          "height": 320
        },
        "outputId": "e9a6cb5f-9656-466d-fefb-f5b0711f41f4",
        "executionInfo": {
          "status": "ok",
          "timestamp": 1520381339393,
          "user_tz": 480,
          "elapsed": 459,
          "user": {
            "displayName": "Nikita Vemuri",
            "photoUrl": "https://lh3.googleusercontent.com/a/default-user=s128",
            "userId": "113506637677921468198"
          }
        }
      },
      "cell_type": "code",
      "source": [
        "plt.plot(np.arange(len(L)), L)"
      ],
      "execution_count": 8,
      "outputs": [
        {
          "output_type": "stream",
          "text": [
            "/usr/local/lib/python3.6/dist-packages/numpy/core/numeric.py:492: ComplexWarning: Casting complex values to real discards the imaginary part\n",
            "  return array(a, dtype, copy=False, order=order)\n"
          ],
          "name": "stderr"
        },
        {
          "output_type": "execute_result",
          "data": {
            "text/plain": [
              "[<matplotlib.lines.Line2D at 0x7f47e18d9780>]"
            ]
          },
          "metadata": {
            "tags": []
          },
          "execution_count": 8
        },
        {
          "output_type": "display_data",
          "data": {
            "image/png": "[encoded data removed]",
            "text/plain": [
              "<matplotlib.figure.Figure at 0x7f47e3b91a90>"
            ]
          },
          "metadata": {
            "tags": []
          }
        }
      ]
    },
    {
      "metadata": {
        "id": "fQyjDWbmvTU6",
        "colab_type": "text"
      },
      "cell_type": "markdown",
      "source": [
        "The eigenvalues seem to quickly trail off so lets look at the first 100 only."
      ]
    },
    {
      "metadata": {
        "id": "RMUn6c36vTU6",
        "colab_type": "code",
        "colab": {
          "autoexec": {
            "startup": false,
            "wait_interval": 0
          },
          "output_extras": [
            {
              "item_id": 1
            },
            {
              "item_id": 2
            },
            {
              "item_id": 3
            }
          ],
          "base_uri": "https://localhost:8080/",
          "height": 320
        },
        "outputId": "52d26341-0629-4b03-c1a9-af97f5318722",
        "executionInfo": {
          "status": "ok",
          "timestamp": 1520381340263,
          "user_tz": 480,
          "elapsed": 416,
          "user": {
            "displayName": "Nikita Vemuri",
            "photoUrl": "https://lh3.googleusercontent.com/a/default-user=s128",
            "userId": "113506637677921468198"
          }
        }
      },
      "cell_type": "code",
      "source": [
        "plt.plot(np.arange(100), L[:100])"
      ],
      "execution_count": 9,
      "outputs": [
        {
          "output_type": "stream",
          "text": [
            "/usr/local/lib/python3.6/dist-packages/numpy/core/numeric.py:492: ComplexWarning: Casting complex values to real discards the imaginary part\n",
            "  return array(a, dtype, copy=False, order=order)\n"
          ],
          "name": "stderr"
        },
        {
          "output_type": "execute_result",
          "data": {
            "text/plain": [
              "[<matplotlib.lines.Line2D at 0x7f47e1837048>]"
            ]
          },
          "metadata": {
            "tags": []
          },
          "execution_count": 9
        },
        {
          "output_type": "display_data",
          "data": {
            "image/png": "[encoded data removed]",
            "text/plain": [
              "<matplotlib.figure.Figure at 0x7f47e3b91e80>"
            ]
          },
          "metadata": {
            "tags": []
          }
        }
      ]
    },
    {
      "metadata": {
        "id": "HuXflocPvTU9",
        "colab_type": "text"
      },
      "cell_type": "markdown",
      "source": [
        "It seems like the largest eigenvalues are roughly the first 40. We will use 36 prinicple components so the number is square like the original data."
      ]
    },
    {
      "metadata": {
        "id": "jFwEz1jcvTU-",
        "colab_type": "code",
        "colab": {
          "autoexec": {
            "startup": false,
            "wait_interval": 0
          },
          "output_extras": [
            {
              "item_id": 1
            }
          ],
          "base_uri": "https://localhost:8080/",
          "height": 51
        },
        "outputId": "514ef130-3b02-445f-ec27-d0ae894e2963",
        "executionInfo": {
          "status": "ok",
          "timestamp": 1520381347613,
          "user_tz": 480,
          "elapsed": 6659,
          "user": {
            "displayName": "Nikita Vemuri",
            "photoUrl": "https://lh3.googleusercontent.com/a/default-user=s128",
            "userId": "113506637677921468198"
          }
        }
      },
      "cell_type": "code",
      "source": [
        "pca = PCA(n_components=36)\n",
        "pca.fit(X_train)"
      ],
      "execution_count": 10,
      "outputs": [
        {
          "output_type": "execute_result",
          "data": {
            "text/plain": [
              "PCA(copy=True, iterated_power='auto', n_components=36, random_state=None,\n",
              "  svd_solver='auto', tol=0.0, whiten=False)"
            ]
          },
          "metadata": {
            "tags": []
          },
          "execution_count": 10
        }
      ]
    },
    {
      "metadata": {
        "id": "WMYW3iusvTVA",
        "colab_type": "text"
      },
      "cell_type": "markdown",
      "source": [
        "Train and test another default K Nearest Neighbors classifier, but now use the data with reduced dimensions."
      ]
    },
    {
      "metadata": {
        "id": "gs3Ky5uqvTVB",
        "colab_type": "code",
        "colab": {
          "autoexec": {
            "startup": false,
            "wait_interval": 0
          }
        }
      },
      "cell_type": "code",
      "source": [
        "X_train_pca = pca.transform(X_train)\n",
        "clf_pca = KNeighborsClassifier().fit(X_train_pca, y_train)"
      ],
      "execution_count": 0,
      "outputs": []
    },
    {
      "metadata": {
        "id": "RPDOcbs7vTVD",
        "colab_type": "code",
        "colab": {
          "autoexec": {
            "startup": false,
            "wait_interval": 0
          },
          "output_extras": [
            {
              "item_id": 1
            }
          ],
          "base_uri": "https://localhost:8080/",
          "height": 34
        },
        "outputId": "3f750be6-3c89-4272-94f1-fbf971987cb9",
        "executionInfo": {
          "status": "ok",
          "timestamp": 1520381367429,
          "user_tz": 480,
          "elapsed": 18621,
          "user": {
            "displayName": "Nikita Vemuri",
            "photoUrl": "https://lh3.googleusercontent.com/a/default-user=s128",
            "userId": "113506637677921468198"
          }
        }
      },
      "cell_type": "code",
      "source": [
        "X_test_pca = pca.transform(X_test)\n",
        "clf_pca.score(X_test_pca, y_test)"
      ],
      "execution_count": 12,
      "outputs": [
        {
          "output_type": "execute_result",
          "data": {
            "text/plain": [
              "0.9808"
            ]
          },
          "metadata": {
            "tags": []
          },
          "execution_count": 12
        }
      ]
    },
    {
      "metadata": {
        "id": "s7p-hZEAvTVG",
        "colab_type": "text"
      },
      "cell_type": "markdown",
      "source": [
        "Not only does the classifier perform better than the original, it also runs much faster!\n",
        "\n",
        "Let's look at an image from the original dataset and from the PCA dataset:"
      ]
    },
    {
      "metadata": {
        "id": "-WrF5BMEvTVG",
        "colab_type": "code",
        "colab": {
          "autoexec": {
            "startup": false,
            "wait_interval": 0
          },
          "output_extras": [
            {
              "item_id": 1
            },
            {
              "item_id": 2
            }
          ],
          "base_uri": "https://localhost:8080/",
          "height": 282
        },
        "outputId": "c00c0eac-fbe9-49e0-c838-24a265796b80",
        "executionInfo": {
          "status": "ok",
          "timestamp": 1520381368258,
          "user_tz": 480,
          "elapsed": 398,
          "user": {
            "displayName": "Nikita Vemuri",
            "photoUrl": "https://lh3.googleusercontent.com/a/default-user=s128",
            "userId": "113506637677921468198"
          }
        }
      },
      "cell_type": "code",
      "source": [
        "X = X_train[0].reshape(28, 28)\n",
        "plt.gray()\n",
        "plt.imshow(X)"
      ],
      "execution_count": 13,
      "outputs": [
        {
          "output_type": "execute_result",
          "data": {
            "text/plain": [
              "<matplotlib.image.AxesImage at 0x7f47e179d5f8>"
            ]
          },
          "metadata": {
            "tags": []
          },
          "execution_count": 13
        },
        {
          "output_type": "display_data",
          "data": {
            "image/png": "[encoded data removed]",
            "text/plain": [
              "<matplotlib.figure.Figure at 0x7f47e18640f0>"
            ]
          },
          "metadata": {
            "tags": []
          }
        }
      ]
    },
    {
      "metadata": {
        "id": "nw9tMP2wvTVJ",
        "colab_type": "code",
        "colab": {
          "autoexec": {
            "startup": false,
            "wait_interval": 0
          },
          "output_extras": [
            {
              "item_id": 1
            },
            {
              "item_id": 2
            }
          ],
          "base_uri": "https://localhost:8080/",
          "height": 282
        },
        "outputId": "9ddafecf-f57c-418e-d597-5e6b599414e8",
        "executionInfo": {
          "status": "ok",
          "timestamp": 1520381369307,
          "user_tz": 480,
          "elapsed": 377,
          "user": {
            "displayName": "Nikita Vemuri",
            "photoUrl": "https://lh3.googleusercontent.com/a/default-user=s128",
            "userId": "113506637677921468198"
          }
        }
      },
      "cell_type": "code",
      "source": [
        "X = X_train_pca[0].reshape(6, 6)\n",
        "plt.gray()\n",
        "plt.imshow(X)"
      ],
      "execution_count": 14,
      "outputs": [
        {
          "output_type": "execute_result",
          "data": {
            "text/plain": [
              "<matplotlib.image.AxesImage at 0x7f47e1781b70>"
            ]
          },
          "metadata": {
            "tags": []
          },
          "execution_count": 14
        },
        {
          "output_type": "display_data",
          "data": {
            "image/png": "[encoded data removed]",
            "text/plain": [
              "<matplotlib.figure.Figure at 0x7f47e18470b8>"
            ]
          },
          "metadata": {
            "tags": []
          }
        }
      ]
    },
    {
      "metadata": {
        "id": "vsCIf0o2vTVL",
        "colab_type": "text"
      },
      "cell_type": "markdown",
      "source": [
        "The data after PCA is not as interpretable because each"
      ]
    },
    {
      "metadata": {
        "id": "PAR-fnn2vTVL",
        "colab_type": "code",
        "colab": {
          "autoexec": {
            "startup": false,
            "wait_interval": 0
          }
        }
      },
      "cell_type": "code",
      "source": [
        "X_train_inv = pca.inverse_transform(X_train_pca)"
      ],
      "execution_count": 0,
      "outputs": []
    },
    {
      "metadata": {
        "id": "V__1ZHskvTVO",
        "colab_type": "code",
        "colab": {
          "autoexec": {
            "startup": false,
            "wait_interval": 0
          },
          "output_extras": [
            {
              "item_id": 1
            }
          ],
          "base_uri": "https://localhost:8080/",
          "height": 34
        },
        "outputId": "400f7518-1d2b-4756-9669-e16a46866f90",
        "executionInfo": {
          "status": "ok",
          "timestamp": 1520381371133,
          "user_tz": 480,
          "elapsed": 280,
          "user": {
            "displayName": "Nikita Vemuri",
            "photoUrl": "https://lh3.googleusercontent.com/a/default-user=s128",
            "userId": "113506637677921468198"
          }
        }
      },
      "cell_type": "code",
      "source": [
        "X_train_inv.shape"
      ],
      "execution_count": 16,
      "outputs": [
        {
          "output_type": "execute_result",
          "data": {
            "text/plain": [
              "(60000, 784)"
            ]
          },
          "metadata": {
            "tags": []
          },
          "execution_count": 16
        }
      ]
    },
    {
      "metadata": {
        "id": "2cdEA-dovTVR",
        "colab_type": "code",
        "colab": {
          "autoexec": {
            "startup": false,
            "wait_interval": 0
          },
          "output_extras": [
            {
              "item_id": 1
            },
            {
              "item_id": 2
            }
          ],
          "base_uri": "https://localhost:8080/",
          "height": 282
        },
        "outputId": "9baacc57-c184-4fa4-8dbc-b1c01848d672",
        "executionInfo": {
          "status": "ok",
          "timestamp": 1520381372414,
          "user_tz": 480,
          "elapsed": 443,
          "user": {
            "displayName": "Nikita Vemuri",
            "photoUrl": "https://lh3.googleusercontent.com/a/default-user=s128",
            "userId": "113506637677921468198"
          }
        }
      },
      "cell_type": "code",
      "source": [
        "X = X_train_inv[0].reshape(28, 28)\n",
        "plt.gray()\n",
        "plt.imshow(X)"
      ],
      "execution_count": 17,
      "outputs": [
        {
          "output_type": "execute_result",
          "data": {
            "text/plain": [
              "<matplotlib.image.AxesImage at 0x7f47e16dfc18>"
            ]
          },
          "metadata": {
            "tags": []
          },
          "execution_count": 17
        },
        {
          "output_type": "display_data",
          "data": {
            "image/png": "[encoded data removed]",
            "text/plain": [
              "<matplotlib.figure.Figure at 0x7f47e175be10>"
            ]
          },
          "metadata": {
            "tags": []
          }
        }
      ]
    },
    {
      "metadata": {
        "id": "RXMzyFycvTVU",
        "colab_type": "code",
        "colab": {
          "autoexec": {
            "startup": false,
            "wait_interval": 0
          }
        }
      },
      "cell_type": "code",
      "source": [
        ""
      ],
      "execution_count": 0,
      "outputs": []
    }
  ]
}